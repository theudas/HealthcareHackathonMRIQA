{
 "cells": [
  {
   "cell_type": "code",
   "execution_count": 1,
   "metadata": {},
   "outputs": [],
   "source": [
    "import torch\n",
    "import pickle\n",
    "\n",
    "with open( \"x_train_hist.p\", \"rb\" ) as file:\n",
    "    x_train_hist = pickle.load(file)\n",
    "    \n",
    "with open( \"y_train_hist.p\", \"rb\" ) as file:\n",
    "    y_train_hist = pickle.load(file)\n",
    "    \n",
    "with open( \"x_valid_hist.p\", \"rb\" ) as file:\n",
    "    x_valid_hist = pickle.load(file)\n",
    "    \n",
    "with open( \"y_valid_hist.p\", \"rb\" ) as file:\n",
    "    y_valid_hist = pickle.load(file)"
   ]
  },
  {
   "cell_type": "markdown",
   "metadata": {},
   "source": [
    "# Load data"
   ]
  },
  {
   "cell_type": "code",
   "execution_count": 2,
   "metadata": {},
   "outputs": [
    {
     "ename": "NameError",
     "evalue": "name 'i_train' is not defined",
     "output_type": "error",
     "traceback": [
      "\u001b[1;31m---------------------------------------------------------------------------\u001b[0m",
      "\u001b[1;31mNameError\u001b[0m                                 Traceback (most recent call last)",
      "\u001b[1;32m<ipython-input-2-046cea8303e7>\u001b[0m in \u001b[0;36m<module>\u001b[1;34m\u001b[0m\n\u001b[0;32m     20\u001b[0m     \u001b[1;32mreturn\u001b[0m \u001b[0mx\u001b[0m\u001b[1;33m\u001b[0m\u001b[1;33m\u001b[0m\u001b[0m\n\u001b[0;32m     21\u001b[0m \u001b[1;33m\u001b[0m\u001b[0m\n\u001b[1;32m---> 22\u001b[1;33m \u001b[0mx_train\u001b[0m \u001b[1;33m=\u001b[0m \u001b[0mload_data\u001b[0m\u001b[1;33m(\u001b[0m\u001b[0mi_train\u001b[0m\u001b[1;33m)\u001b[0m\u001b[1;33m\u001b[0m\u001b[1;33m\u001b[0m\u001b[0m\n\u001b[0m\u001b[0;32m     23\u001b[0m \u001b[0mx_valid\u001b[0m \u001b[1;33m=\u001b[0m \u001b[0mload_data\u001b[0m\u001b[1;33m(\u001b[0m\u001b[0mi_valid\u001b[0m\u001b[1;33m)\u001b[0m\u001b[1;33m\u001b[0m\u001b[1;33m\u001b[0m\u001b[0m\n",
      "\u001b[1;31mNameError\u001b[0m: name 'i_train' is not defined"
     ]
    }
   ],
   "source": [
    "def load_data(indices):\n",
    "    x = None\n",
    "    \n",
    "    for idx in tqdm(indices):\n",
    "        t1 = dataset._get_sample_dict_from_subject(dataset.subjects[idx])[\"T1\"].data\n",
    "        margin = int(t1.shape[-1] * 0.1)\n",
    "        t1 = t1[:,:,:,margin:-margin]\n",
    "\n",
    "        t2 = dataset._get_sample_dict_from_subject(dataset.subjects[idx])[\"T2\"].data\n",
    "        margin = int(t2.shape[-1] * 0.1)\n",
    "        t2 = t2[:,:,:,margin:-margin]\n",
    "\n",
    "        data = torch.cat((t1, t2), -1)\n",
    "\n",
    "        if x is None:\n",
    "            x = data\n",
    "        else:    \n",
    "            x = torch.cat((x, data), 0)\n",
    "            \n",
    "    return x\n",
    "\n",
    "x_train = load_data(i_train)\n",
    "x_valid = load_data(i_valid)"
   ]
  },
  {
   "cell_type": "code",
   "execution_count": null,
   "metadata": {},
   "outputs": [],
   "source": [
    "from mriqa_dataset import simulate_artefacts"
   ]
  },
  {
   "cell_type": "markdown",
   "metadata": {},
   "source": [
    "# Augment"
   ]
  },
  {
   "cell_type": "code",
   "execution_count": null,
   "metadata": {},
   "outputs": [],
   "source": [
    "import numpy as np\n",
    "from collections import defaultdict\n",
    "\n",
    "param_num_slices = 30\n",
    "\n",
    "def augment(x):\n",
    "    x_artefact = defaultdict(lambda: defaultdict(list))\n",
    "\n",
    "    for index, patient in tqdm(enumerate(x), total=len(x), leave=False):\n",
    "        for label in tqdm(range(1,5), leave=False):\n",
    "            artefact = np.zeros(5)\n",
    "            artefact[label] = 1\n",
    "            \n",
    "            slices = np.random.choice(120,param_num_slices,replace=False)\n",
    "\n",
    "            x_artefact[index][label].append(simulate_artefacts(patient[:,:,slices].reshape((1,256,256,param_num_slices)), artefact[1:]))\n",
    "            \n",
    "    return x_artefact"
   ]
  },
  {
   "cell_type": "code",
   "execution_count": null,
   "metadata": {},
   "outputs": [],
   "source": [
    "a_train = augment(x_train)"
   ]
  },
  {
   "cell_type": "code",
   "execution_count": null,
   "metadata": {},
   "outputs": [],
   "source": [
    "a_valid = augment(x_valid)"
   ]
  },
  {
   "cell_type": "code",
   "execution_count": null,
   "metadata": {},
   "outputs": [],
   "source": [
    "import torch\n",
    "import random\n",
    "import numpy as np\n",
    "import torch.optim as optim\n",
    "from torch.utils.data import DataLoader\n",
    "from torch.nn import CrossEntropyLoss\n",
    "from tqdm.auto import tqdm\n",
    "\n",
    "from mriqa_dataset import MRIQADataset\n",
    "from networks import ClassicCNN\n",
    "\n",
    "net = ClassicCNN(num_classes=5)\n",
    "net = net.cuda()\n",
    "\n",
    "optimizer = optim.Adam(net.parameters())\n",
    "ce = CrossEntropyLoss().cuda()"
   ]
  },
  {
   "cell_type": "code",
   "execution_count": null,
   "metadata": {},
   "outputs": [],
   "source": [
    "random.seed(21062020)\n",
    "np.random.seed(21062020)\n",
    "torch.manual_seed(21062020)\n",
    "torch.cuda.manual_seed(21062020)\n",
    "torch.backends.cudnn.deterministic = True\n",
    "torch.backends.cudnn.benchmark = False\n",
    "\n",
    "print(torch.cuda.current_device())\n",
    "torch.cuda.set_device(0)"
   ]
  },
  {
   "cell_type": "code",
   "execution_count": null,
   "metadata": {},
   "outputs": [],
   "source": [
    "from random import shuffle\n",
    "\n",
    "def unison_shuffled_copies(a, b):\n",
    "    assert len(a) == len(b)\n",
    "    p = np.random.permutation(len(a))\n",
    "    return a[p], b[p]\n",
    "\n",
    "def make_batch(x_data, a_data):\n",
    "    x_out = None\n",
    "    y_out = None\n",
    "    \n",
    "    indices = np.arange(len(x_data))\n",
    "    shuffle(indices)\n",
    "    \n",
    "    for i in indices:\n",
    "        x = x_data[i]\n",
    "        x_slice = np.random.randint(x.shape[-1])\n",
    "        data = x[:,:,x_slice].reshape(1, 1, 256, 256)\n",
    "        data -= torch.min(data)\n",
    "        data /= torch.max(data)\n",
    "        \n",
    "        label = torch.tensor([0])\n",
    "        \n",
    "        if x_out is None:\n",
    "            x_out = data\n",
    "            y_out = label\n",
    "            \n",
    "        else:\n",
    "            x_out = torch.cat((x_out, data), 0)\n",
    "            y_out = torch.cat((y_out, label), 0)\n",
    "            \n",
    "    for index in indices:\n",
    "        for artefact in range(1,5):\n",
    "            \n",
    "            x = a_data[index][artefact][0]\n",
    "            \n",
    "            x_slice = np.random.randint(x.shape[-1])\n",
    "            data = x[0, :,:,x_slice].reshape(1, 1, 256, 256)\n",
    "            \n",
    "            data -= torch.min(data)\n",
    "            data /= torch.max(data)\n",
    "\n",
    "            label = torch.tensor([artefact])\n",
    "\n",
    "            if x_out is None:\n",
    "                x_out = data\n",
    "                y_out = label\n",
    "\n",
    "            else:\n",
    "                x_out = torch.cat((x_out, data), 0)\n",
    "                y_out = torch.cat((y_out, label), 0)\n",
    "    \n",
    "    x_out, y_out = unison_shuffled_copies(x_out, y_out)\n",
    "    \n",
    "    return x_out, y_out"
   ]
  },
  {
   "cell_type": "code",
   "execution_count": null,
   "metadata": {},
   "outputs": [],
   "source": [
    "x_t, y_t = make_batch(x_train, a_train)\n",
    "x_v, y_v = make_batch(x_valid, a_valid)"
   ]
  },
  {
   "cell_type": "code",
   "execution_count": null,
   "metadata": {},
   "outputs": [],
   "source": [
    "batch_size = 16\n",
    "\n",
    "max_epochs = 10\n",
    "\n",
    "for epoch in range(max_epochs):\n",
    "    net.train()\n",
    "    epoch_loss = 0.0\n",
    "\n",
    "    for i in range(0, x_t.shape[0], batch_size):\n",
    "        sample = x_t[i:i+batch_size]\n",
    "        sample = sample.cuda()\n",
    "\n",
    "        label = y_t[i:i+batch_size]\n",
    "        label = label.cuda()\n",
    "\n",
    "        prediction = net(sample)\n",
    "        loss = ce(prediction, label)\n",
    "        loss.backward()\n",
    "        optimizer.step()\n",
    "\n",
    "        epoch_loss += loss.item()\n",
    "\n",
    "    print(f'Epoch {epoch}: Train Loss {epoch_loss}')"
   ]
  },
  {
   "cell_type": "code",
   "execution_count": null,
   "metadata": {},
   "outputs": [],
   "source": [
    "epoch_loss = 0.0\n",
    "net.train()\n",
    "\n",
    "# train loop\n",
    "for sample, label in tqdm(train_loader, total=len(train_loader)):\n",
    "    sample = sample.cuda()\n",
    "    label = label.cuda()\n",
    "\n",
    "    prediction = net(sample)\n",
    "    loss = ce(prediction, label)\n",
    "    loss.backward()\n",
    "    optimizer.step()\n",
    "\n",
    "    epoch_loss += loss.item()\n",
    "\n",
    "print('[{}] train-loss: {}'.format(epoch, epoch_loss / num_mini_batches))"
   ]
  },
  {
   "cell_type": "code",
   "execution_count": null,
   "metadata": {},
   "outputs": [],
   "source": [
    "import matplotlib.pyplot as plt\n",
    "plt.imshow(a_valid[80][4][0][0,:,:,5])\n",
    "plt.show()"
   ]
  },
  {
   "cell_type": "code",
   "execution_count": null,
   "metadata": {},
   "outputs": [],
   "source": [
    "a_valid[0][1][0][0,:,:,6] == a_valid[0][1][0][0,:,:,5]"
   ]
  },
  {
   "cell_type": "code",
   "execution_count": null,
   "metadata": {},
   "outputs": [],
   "source": [
    "x_artefact"
   ]
  },
  {
   "cell_type": "code",
   "execution_count": null,
   "metadata": {},
   "outputs": [],
   "source": [
    "import matplotlib.pyplot as plt\n",
    "plt.figure(figsize=(20,10))\n",
    "plt.imshow(x_artefact[4][0,:,:,100])\n",
    "plt.show()"
   ]
  },
  {
   "cell_type": "code",
   "execution_count": null,
   "metadata": {},
   "outputs": [],
   "source": [
    "x_artefact[4][0,:,:,100]"
   ]
  },
  {
   "cell_type": "code",
   "execution_count": null,
   "metadata": {},
   "outputs": [],
   "source": [
    "import matplotlib.pyplot as plt\n",
    "plt.figure(figsize=(20,10))\n",
    "plt.imshow(x_train[0,:,:,100])\n",
    "plt.show()"
   ]
  },
  {
   "cell_type": "code",
   "execution_count": null,
   "metadata": {},
   "outputs": [],
   "source": [
    "x_ -= torch.min(x_)\n",
    "x_ /= torch.max(x_)\n",
    "\n",
    "from numpy import random\n",
    "margin = int(x_.shape[-1] * 0.1)\n",
    "slice_number = random.randint(margin, x_.shape[-1] - margin)\n",
    "x_ = x_[..., slice_number].unsqueeze(dim=0)\n",
    "x_ = x_.squeeze(dim=0)\n",
    "x_ = x_.squeeze(dim=0)\n",
    "\n",
    "import matplotlib.pyplot as plt\n",
    "plt.imshow(x_)"
   ]
  },
  {
   "cell_type": "code",
   "execution_count": null,
   "metadata": {},
   "outputs": [],
   "source": []
  },
  {
   "cell_type": "code",
   "execution_count": null,
   "metadata": {},
   "outputs": [],
   "source": [
    "x_.shape"
   ]
  },
  {
   "cell_type": "code",
   "execution_count": null,
   "metadata": {},
   "outputs": [],
   "source": [
    "x_train.shape"
   ]
  },
  {
   "cell_type": "code",
   "execution_count": null,
   "metadata": {},
   "outputs": [],
   "source": [
    "x_train[0]"
   ]
  },
  {
   "cell_type": "code",
   "execution_count": null,
   "metadata": {},
   "outputs": [],
   "source": [
    "import numpy as np\n",
    "x_train = torch.FloatTensor(np.array(x_train))"
   ]
  },
  {
   "cell_type": "code",
   "execution_count": null,
   "metadata": {},
   "outputs": [],
   "source": [
    "x_train.data.shape"
   ]
  },
  {
   "cell_type": "code",
   "execution_count": null,
   "metadata": {},
   "outputs": [],
   "source": [
    "x.shape"
   ]
  },
  {
   "cell_type": "code",
   "execution_count": null,
   "metadata": {},
   "outputs": [],
   "source": [
    "subject = train_set[0]\n",
    "sample = train_set._get_sample_dict_from_subject(subject)\n",
    "x = sample['T1'].data"
   ]
  },
  {
   "cell_type": "code",
   "execution_count": null,
   "metadata": {},
   "outputs": [],
   "source": []
  }
 ],
 "metadata": {
  "kernelspec": {
   "display_name": "Python 3",
   "language": "python",
   "name": "python3"
  },
  "language_info": {
   "codemirror_mode": {
    "name": "ipython",
    "version": 3
   },
   "file_extension": ".py",
   "mimetype": "text/x-python",
   "name": "python",
   "nbconvert_exporter": "python",
   "pygments_lexer": "ipython3",
   "version": "3.7.4"
  }
 },
 "nbformat": 4,
 "nbformat_minor": 2
}
